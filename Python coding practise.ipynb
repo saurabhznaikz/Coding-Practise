{
 "cells": [
  {
   "cell_type": "code",
   "execution_count": null,
   "id": "f35d1cb3",
   "metadata": {},
   "outputs": [],
   "source": [
    "## 1. Question: Given a list of numbers, write a Python function to find the second highest number.\n",
    "## numbers = [1, 3, 2, 4, 4, 5, 6, 6]"
   ]
  },
  {
   "cell_type": "code",
   "execution_count": null,
   "id": "f3491972",
   "metadata": {},
   "outputs": [],
   "source": [
    "def second_highest(numbers):\n",
    "    unique_list = list(set(numbers))\n",
    "    unique_list.sort()\n",
    "    print(unique_list[-2])\n",
    "numbers = [1, 3, 2, 4, 4, 5, 6, 6]\n",
    "second_highest(numbers)\n",
    "# print(second)"
   ]
  },
  {
   "cell_type": "code",
   "execution_count": null,
   "id": "2b30bc9e",
   "metadata": {},
   "outputs": [],
   "source": [
    "# approach: convert list into set to remove duplicate; then return second last item of the sorted list"
   ]
  },
  {
   "cell_type": "code",
   "execution_count": null,
   "id": "a3f2ab57",
   "metadata": {},
   "outputs": [],
   "source": [
    "## 2. Question: Write a function to compute the factorial of a number using recursion.\n",
    "## n=5"
   ]
  },
  {
   "cell_type": "code",
   "execution_count": null,
   "id": "17fe6165",
   "metadata": {},
   "outputs": [],
   "source": [
    "def factorial(number):\n",
    "    if number==1:\n",
    "        return 1\n",
    "    else:\n",
    "        return number*factorial(number-1)\n",
    "\n",
    "print(factorial(5))"
   ]
  },
  {
   "cell_type": "code",
   "execution_count": null,
   "id": "96c8858d",
   "metadata": {},
   "outputs": [],
   "source": [
    "## approach: return 1 if input is 0 else return number*factorial of number-1"
   ]
  },
  {
   "cell_type": "code",
   "execution_count": null,
   "id": "286f676a",
   "metadata": {},
   "outputs": [],
   "source": [
    "## 3. Question: You are given a list of strings. Write a function to filter out all strings that are palindromes.\n",
    "## words = [\"radar\", \"python\", \"level\", \"world\"]"
   ]
  },
  {
   "cell_type": "code",
   "execution_count": null,
   "id": "37543d84",
   "metadata": {},
   "outputs": [],
   "source": [
    "words = [\"radar\", \"python\", \"level\", \"world\",\"hello\"]\n",
    "palindrome_list = []\n",
    "for word in words:\n",
    "    if(word.lower()[::-1]==word.lower()):\n",
    "        palindrome_list.append(word)\n",
    "print(palindrome_list)"
   ]
  },
  {
   "cell_type": "code",
   "execution_count": null,
   "id": "5286d5fc",
   "metadata": {},
   "outputs": [],
   "source": [
    "## 4. Question: Given a string, write a function to check if it is an anagram of another string."
   ]
  },
  {
   "cell_type": "code",
   "execution_count": null,
   "id": "e7fd21bf",
   "metadata": {},
   "outputs": [],
   "source": [
    "def anagram(word1,word2):\n",
    "    return sorted(word1)== sorted(word2)\n",
    "word1= \"listen\"\n",
    "word2 = \"silent\"\n",
    "anagram(word1,word2)"
   ]
  },
  {
   "cell_type": "code",
   "execution_count": null,
   "id": "5ad9a796",
   "metadata": {},
   "outputs": [],
   "source": [
    "# appraoch: we will sort each word and then compare this sorted value with each other and return boolean value based on it."
   ]
  },
  {
   "cell_type": "code",
   "execution_count": null,
   "id": "83fd0502",
   "metadata": {},
   "outputs": [],
   "source": [
    "## 5. Question: Write a function to flatten a nested list.\n",
    "## nested_list = [1, [2, 3, [4, 5]], 6]"
   ]
  },
  {
   "cell_type": "code",
   "execution_count": null,
   "id": "ca2f787e",
   "metadata": {},
   "outputs": [],
   "source": [
    "nested_list = [1, [2, 3, [4, 5]], 6]\n",
    "def unnesting(lst):\n",
    "    result = []\n",
    "    for i in lst:\n",
    "        if isinstance(i,list):\n",
    "            result.extend(unnesting(i))\n",
    "        else:\n",
    "            result.append(i)\n",
    "            \n",
    "    return result\n",
    "unnesting(nested_list)"
   ]
  },
  {
   "cell_type": "code",
   "execution_count": null,
   "id": "530c1af7",
   "metadata": {},
   "outputs": [],
   "source": [
    "## approach: we use recursion apprach. if we encounter non list item we append it to the list and if we encounter list item then we call the recursion of function on that list item"
   ]
  },
  {
   "cell_type": "code",
   "execution_count": null,
   "id": "74937fcb",
   "metadata": {},
   "outputs": [],
   "source": [
    "## 6. Question: Given two lists, write a function that returns the elements that are common to both lists.\n",
    "## list1 = [1, 2, 3, 4, 5]\n",
    "## list2 = [4, 5, 6, 7, 8]"
   ]
  },
  {
   "cell_type": "code",
   "execution_count": null,
   "id": "e05aeabb",
   "metadata": {},
   "outputs": [],
   "source": [
    "list1 = [1, 2, 3, 4, 5]\n",
    "list2 = [4, 5, 6, 7, 8]\n",
    "def common_element(l1,l2):\n",
    "    result=[]\n",
    "    for i in list1:\n",
    "        if i in list2:\n",
    "            result.append(i)\n",
    "    return result\n",
    "common_element(list1,list2)"
   ]
  },
  {
   "cell_type": "code",
   "execution_count": null,
   "id": "6984099e",
   "metadata": {},
   "outputs": [],
   "source": [
    "## approach: we traverse through 1st list and if that item is present in 2nd list then we append it to the result list and return result list "
   ]
  },
  {
   "cell_type": "code",
   "execution_count": null,
   "id": "a13effd1",
   "metadata": {},
   "outputs": [],
   "source": [
    "## 7. Question: Write a function that returns the number of words in a string.\n",
    "## sentence = \"The quick brown fox\" n= 4"
   ]
  },
  {
   "cell_type": "code",
   "execution_count": null,
   "id": "c00fbed8",
   "metadata": {},
   "outputs": [],
   "source": [
    "def word_count(s):\n",
    "    return len(s.split())\n",
    "n = word_count(\"The quick brown fox\")\n",
    "print(n)"
   ]
  },
  {
   "cell_type": "code",
   "execution_count": null,
   "id": "a7b16bfb",
   "metadata": {},
   "outputs": [],
   "source": [
    "## appraoch: we split our string into lists. Then we count the no of list items and return the list item no"
   ]
  },
  {
   "cell_type": "code",
   "execution_count": null,
   "id": "678a5d3b",
   "metadata": {},
   "outputs": [],
   "source": [
    "## 8. Question: Write a Python function to merge two dictionaries. If both dictionaries have the same key, prefer the second dictionary's value.\n",
    "## dict1 = {'a': 1, 'b': 2}\n",
    "## dict2 = {'b': 3, 'c': 4}"
   ]
  },
  {
   "cell_type": "code",
   "execution_count": null,
   "id": "78dca1ea",
   "metadata": {},
   "outputs": [],
   "source": [
    "def merge_dict(d1,d2):\n",
    "    d1.update(d2)\n",
    "    return d1\n",
    "\n",
    "dict1 = {'a': 1, 'b': 2}\n",
    "dict2 = {'b': 3, 'c': 4}\n",
    "dict3=merge_dict(dict1,dict2)\n",
    "print(dict3)"
   ]
  },
  {
   "cell_type": "code",
   "execution_count": null,
   "id": "02099129",
   "metadata": {},
   "outputs": [],
   "source": [
    "## apprach: we use update method of dict to add 2 dictionary togehter"
   ]
  },
  {
   "cell_type": "code",
   "execution_count": null,
   "id": "0fddf4eb",
   "metadata": {},
   "outputs": [],
   "source": [
    "# 9. Question: Write a function that finds the most repeated character in a string.\n",
    "# string = \"aabbbcdddde\""
   ]
  },
  {
   "cell_type": "code",
   "execution_count": null,
   "id": "6fb25d54",
   "metadata": {},
   "outputs": [],
   "source": [
    "def frequent_count(s):\n",
    "    dict1={}\n",
    "    for letter in s:\n",
    "        if(letter in dict1):\n",
    "            dict1[letter]+=1\n",
    "        else:\n",
    "            dict1[letter]=1\n",
    "    return max(dict1,key=dict1.get)\n",
    "\n",
    "string = \"aabbbcdddde\"\n",
    "frequent_count(string)"
   ]
  },
  {
   "cell_type": "code",
   "execution_count": null,
   "id": "21bc45c0",
   "metadata": {},
   "outputs": [],
   "source": [
    "# appraoch: we create an empty dictionary then we traverse through the dictionary if the alphabet is not present we that alphabet and its occurence. If it is present then we increment its value"
   ]
  },
  {
   "cell_type": "code",
   "execution_count": null,
   "id": "d6b3efaa",
   "metadata": {},
   "outputs": [],
   "source": [
    "# 10. Question: Write a function that checks if a string contains all letters of the alphabet at least once.\n",
    "# test_string = \"The quick brown fox jumps over the lazy dog\""
   ]
  },
  {
   "cell_type": "code",
   "execution_count": null,
   "id": "1090e437",
   "metadata": {},
   "outputs": [],
   "source": [
    "def alphabet(s):\n",
    "    alpha = \"a,b,c,d,e,f,g,h,i,j,k,l,m,n,o,p,q,r,s,t,u,v,w,x,y,z\"\n",
    "    return set(s.lower())>=set(alpha.lower())\n",
    "bool=alphabet(\"The quick brown fox jumps over the lazy dog\")\n",
    "print(bool)"
   ]
  },
  {
   "cell_type": "code",
   "execution_count": null,
   "id": "a88296fd",
   "metadata": {},
   "outputs": [],
   "source": [
    "## appraoch: we compare set of all alphaters with given string after converting it into lowercase and return the comparison"
   ]
  },
  {
   "cell_type": "code",
   "execution_count": null,
   "id": "e12fcf16",
   "metadata": {},
   "outputs": [],
   "source": [
    "#  Question: Write a function that checks if a given string is a valid IPv4 address.\n",
    "# address = \"192.168.1.1\""
   ]
  },
  {
   "cell_type": "code",
   "execution_count": null,
   "id": "30920ab3",
   "metadata": {},
   "outputs": [],
   "source": [
    "def ip_address(address):\n",
    "    parts = address.split(\".\")\n",
    "    if(len(parts)!=4):\n",
    "        return False\n",
    "    for part in parts:\n",
    "        if not part.isdigit():\n",
    "            return False\n",
    "        if int(part) > 255 or int(part)<0:\n",
    "            return False\n",
    "    return True\n",
    "address = \"192.155.1.1\"\n",
    "ip_address(address)"
   ]
  },
  {
   "cell_type": "code",
   "execution_count": null,
   "id": "754fdedd",
   "metadata": {},
   "outputs": [],
   "source": [
    "# Approach: First we check if we have 4 part if not we return false, then we check if we have all digits or not if not we return false; then we check if all parts are between 0 and 255 if not then we return false. if every condition is satisfied then we a get true"
   ]
  },
  {
   "cell_type": "code",
   "execution_count": null,
   "id": "149defa6",
   "metadata": {},
   "outputs": [],
   "source": [
    "# 12. Question: Given a list of numbers, write a function to compute the mean, median, and mode.\n",
    "# numbers = [1, 2, 3, 4, 4, 5, 5, 5, 6]"
   ]
  },
  {
   "cell_type": "code",
   "execution_count": null,
   "id": "bd8e5401",
   "metadata": {},
   "outputs": [],
   "source": [
    "from statistics import mean,median,mode\n",
    "\n",
    "\n",
    "def compute_stats(numbers):\n",
    "    return{\n",
    "        \"mean\":mean(numbers),\n",
    "        \"median\": median(numbers),\n",
    "        \"mode\": mode(numbers),\n",
    "    }\n",
    "numbers = [1, 2, 3, 4, 4, 5, 5, 5, 6]\n",
    "print(compute_stats(numbers))"
   ]
  },
  {
   "cell_type": "code",
   "execution_count": null,
   "id": "1a07d97c",
   "metadata": {},
   "outputs": [],
   "source": [
    "## appraoch: we import mean,median and mode functions from statistics and then we return dictionary in the form"
   ]
  },
  {
   "cell_type": "code",
   "execution_count": null,
   "id": "7c95b9d1",
   "metadata": {},
   "outputs": [],
   "source": [
    "## 13. Question: Write a function to compute the Fibonacci series up to n.\n",
    "## n = 10"
   ]
  },
  {
   "cell_type": "code",
   "execution_count": null,
   "id": "e0847eb5",
   "metadata": {},
   "outputs": [],
   "source": [
    "def fibonnacci(n):\n",
    "    result = [0,1]\n",
    "    while len(result) < n:\n",
    "        result.append(result[-1]+result[-2])\n",
    "    return result\n",
    "n=10\n",
    "fibonnacci(n)"
   ]
  },
  {
   "cell_type": "code",
   "execution_count": null,
   "id": "bb4ee5ec",
   "metadata": {},
   "outputs": [],
   "source": [
    "# 14. Question: Given a string, write a function that returns the first non-repeated character.\n",
    "# string = \"swiss\""
   ]
  },
  {
   "cell_type": "code",
   "execution_count": null,
   "id": "2689645c",
   "metadata": {},
   "outputs": [],
   "source": [
    "def count(s):\n",
    "    dict1={}\n",
    "    for word in s:\n",
    "        if word in dict1:\n",
    "            dict1[word]+=1\n",
    "        else:\n",
    "            dict1[word]=1\n",
    "    print(dict1)\n",
    "    for word in s:\n",
    "        if dict1[word]==1:\n",
    "            return word\n",
    "    return \"NONE\"\n",
    "string = \"hetish\"\n",
    "count(string)"
   ]
  },
  {
   "cell_type": "code",
   "execution_count": null,
   "id": "1c666794",
   "metadata": {},
   "outputs": [],
   "source": [
    "# approach: we create an emtpy dictionary, then we traverse through the string and record the letter and occurences in the dictionary. Then we again traverse through the string and compare the occurence of the word and return the fist one which has 1 occurence only"
   ]
  },
  {
   "cell_type": "code",
   "execution_count": null,
   "id": "f4cc01f3",
   "metadata": {},
   "outputs": [],
   "source": [
    "# 15. Question: Write a function to check if two strings are a rotation of each other (e.g., \"abcde\" and \"cdeab\" are rotations of each other)."
   ]
  },
  {
   "cell_type": "code",
   "execution_count": null,
   "id": "4d11fed9",
   "metadata": {},
   "outputs": [],
   "source": [
    "string_1= \"abcde\"\n",
    "string_2= \"cdeab\"\n",
    "\n",
    "def check_rotate(string1,string2):\n",
    "    print(string2 in string1*2)\n",
    "check_rotate(string_1,string_2)"
   ]
  },
  {
   "cell_type": "code",
   "execution_count": null,
   "id": "54bbc2ab",
   "metadata": {},
   "outputs": [],
   "source": [
    "# Approach: we multiple second string twice and check if first string is present in that and return boolean"
   ]
  },
  {
   "cell_type": "code",
   "execution_count": null,
   "id": "ecb6e00d",
   "metadata": {},
   "outputs": [],
   "source": [
    "# 16. Question: Write a function to determine if a string has all unique characters (i.e., no character is repeated).\n",
    "# string = \"abcdef\""
   ]
  },
  {
   "cell_type": "code",
   "execution_count": null,
   "id": "2df623c2",
   "metadata": {},
   "outputs": [],
   "source": [
    "def unique(string):\n",
    "    return len(string)== len(set(string))\n",
    "string = \"abcedf\"\n",
    "unique(string)"
   ]
  },
  {
   "cell_type": "code",
   "execution_count": null,
   "id": "18857bd5",
   "metadata": {},
   "outputs": [],
   "source": [
    "# we return the boolean of comparison between length of string and length of set of that string"
   ]
  },
  {
   "cell_type": "code",
   "execution_count": null,
   "id": "f0497b0c",
   "metadata": {},
   "outputs": [],
   "source": [
    "# 17. Question: Write a function that returns the longest consecutive subsequence in a list of numbers."
   ]
  },
  {
   "cell_type": "code",
   "execution_count": 1,
   "id": "cf9f77f6",
   "metadata": {},
   "outputs": [
    {
     "data": {
      "text/plain": [
       "[5, 6, 7, 8]"
      ]
     },
     "execution_count": 1,
     "metadata": {},
     "output_type": "execute_result"
    }
   ],
   "source": [
    "def longest_subsequence(l):\n",
    "    numbers = set(l)\n",
    "    long = []\n",
    "    for n in numbers:\n",
    "        if (n-1) not in numbers:\n",
    "            temp_long=[]\n",
    "            length=0\n",
    "            while (n+length) in numbers:\n",
    "                temp_long.append(n+length)\n",
    "                length+=1\n",
    "            if(len(long)<len(temp_long)):\n",
    "                long = temp_long\n",
    "    return long\n",
    "            \n",
    "numbers = [1, 2, 3, 5, 6, 7, 8]\n",
    "longest_subsequence(numbers)\n"
   ]
  },
  {
   "cell_type": "code",
   "execution_count": null,
   "id": "db5b00f2",
   "metadata": {},
   "outputs": [],
   "source": [
    "# 19. Question: Given a list of integers, write a function to move all zeros to the end of the list while maintaining the order of the other elements.\n",
    "#     numbers = [1, 2, 0, 4, 0, 5, 6, 0]"
   ]
  },
  {
   "cell_type": "code",
   "execution_count": null,
   "id": "732729db",
   "metadata": {},
   "outputs": [],
   "source": [
    "def rearrange(num):\n",
    "    count=num.count(0)\n",
    "    new_list=[]\n",
    "    print(count)\n",
    "    new_list = [n for n in num if n!=0]\n",
    "    new_list.extend([0]*count)\n",
    "    return new_list\n",
    "    \n",
    "numbers = [1, 2, 0, 4, 0, 5, 6, 0]\n",
    "list1 = rearrange(numbers)\n",
    "print(list1)"
   ]
  },
  {
   "cell_type": "code",
   "execution_count": null,
   "id": "08c1f85d",
   "metadata": {},
   "outputs": [],
   "source": [
    "# 21. Question: Write a function that checks if a given binary tree is a valid binary search tree."
   ]
  },
  {
   "cell_type": "code",
   "execution_count": null,
   "id": "7896c524",
   "metadata": {},
   "outputs": [],
   "source": [
    "# 22. Question: Write a function to find the longest common prefix of a list of strings.\n",
    "# strings = [\"flower\", \"flow\", \"flight\"]\n",
    "# print(longest_common_prefix(strings))  # Output: \"fl\""
   ]
  },
  {
   "cell_type": "code",
   "execution_count": null,
   "id": "465e9ea9",
   "metadata": {},
   "outputs": [],
   "source": [
    "def longest_substring(list_string):\n",
    "    prefix = list_string[0]\n",
    "    for i in list_string[1:]:\n",
    "        while prefix not in i:\n",
    "            prefix=prefix[:-1]\n",
    "    return prefix\n",
    "strings =  [\"flower\", \"flow\", \"flight\"]\n",
    "print(longest_substring(strings))\n"
   ]
  },
  {
   "cell_type": "code",
   "execution_count": null,
   "id": "8dddf097",
   "metadata": {},
   "outputs": [],
   "source": [
    "# 23. Question: Write a function that returns the intersection of two sorted arrays. Assume each array does not have duplicates."
   ]
  },
  {
   "cell_type": "code",
   "execution_count": 8,
   "id": "5f900650",
   "metadata": {},
   "outputs": [
    {
     "data": {
      "text/plain": [
       "[2, 5]"
      ]
     },
     "execution_count": 8,
     "metadata": {},
     "output_type": "execute_result"
    }
   ],
   "source": [
    "def intersection(arr1,arr2):\n",
    "    i,j=0,0\n",
    "    intersection = []\n",
    "    while i<len(arr1) and j<len(arr2):\n",
    "        if arr1[i]==arr2[j]:\n",
    "            intersection.append(arr1[i])\n",
    "            i+=1\n",
    "            j+=1\n",
    "        elif arr1[i]<arr2[j]:\n",
    "            i+=1\n",
    "        else:\n",
    "            j+=1\n",
    "    return intersection\n",
    "\n",
    "arr1 = [1, 2, 4, 5, 6]\n",
    "arr2 = [2, 3, 5, 7]\n",
    "intersection(arr1,arr2)\n"
   ]
  },
  {
   "cell_type": "code",
   "execution_count": null,
   "id": "9367ffcd",
   "metadata": {},
   "outputs": [],
   "source": [
    "# # 24. Question: Write a function to determine if two strings are one edit (or zero edits) away.\n",
    "\n",
    "# print(is_one_edit_away(\"pale\", \"ple\"))   # Output: True\n",
    "# print(is_one_edit_away(\"pales\", \"pale\")) # Output: True\n",
    "# print(is_one_edit_away(\"pale\", \"bale\"))  # Output: True\n",
    "# print(is_one_edit_away(\"pale\", \"bake\"))  # Output: False"
   ]
  },
  {
   "cell_type": "code",
   "execution_count": 1,
   "id": "3e899be3",
   "metadata": {},
   "outputs": [
    {
     "name": "stdout",
     "output_type": "stream",
     "text": [
      "True\n",
      "True\n",
      "True\n",
      "True\n",
      "False\n"
     ]
    }
   ],
   "source": [
    "def edit_count(s1,s2):\n",
    "    if abs(len(s1)-len(s2))>1:\n",
    "        return False\n",
    "    if len(s1)==len(s2):\n",
    "        i,false_occurence=0,0\n",
    "        for i in range(0,len(s1)):\n",
    "            if s1[i]!=s2[i]:\n",
    "                false_occurence+=1\n",
    "                if false_occurence>1:\n",
    "                    return False\n",
    "    if len(s1)>len(s2):\n",
    "        s1,s2=s2,s1\n",
    "        false_occurence = 0\n",
    "        for i in range(0,len(s1)):\n",
    "            if s1[i]!=s2[i+false_occurence]:\n",
    "                false_occurence+=1\n",
    "                if false_occurence>1:\n",
    "                    return False\n",
    "    return True\n",
    "print(edit_count(\"ple\",\"pale\"))\n",
    "print(edit_count(\"pale\",\"ple\"))\n",
    "print(edit_count(\"pales\",\"pale\"))\n",
    "print(edit_count(\"pale\",\"bale\"))\n",
    "print(edit_count(\"pale\",\"bake\"))"
   ]
  },
  {
   "cell_type": "code",
   "execution_count": 11,
   "id": "2c414061",
   "metadata": {},
   "outputs": [],
   "source": [
    "## Approach: check the length of 2 strings. If length diff is more than 1 return false. If lenght diff is 0 and more than 1 charater mismatches we returns false. if length of string is mismatch, take string 2 as largest compare i th element of str1 and i+false_occurence element of str2 and return false_occurence false if it is more than 1"
   ]
  },
  {
   "cell_type": "code",
   "execution_count": null,
   "id": "97d939a7",
   "metadata": {},
   "outputs": [],
   "source": [
    "# 25. Question: Write a function that returns the shortest path in a maze from a start point to an end point, given that you can only move up, down, left, or right. The maze is represented as a 2D list where 0 represents an open path and 1 represents a wall."
   ]
  },
  {
   "cell_type": "code",
   "execution_count": null,
   "id": "75dff6f8",
   "metadata": {},
   "outputs": [],
   "source": [
    "# 26. Question: Write a function that returns the nth number in the Fibonacci sequence using recursion."
   ]
  },
  {
   "cell_type": "code",
   "execution_count": 5,
   "id": "d216f032",
   "metadata": {},
   "outputs": [
    {
     "name": "stdout",
     "output_type": "stream",
     "text": [
      "21\n"
     ]
    }
   ],
   "source": [
    "def fib_recursion(n):\n",
    "    if n<=1:\n",
    "        return n\n",
    "    else:\n",
    "        return fib_recursion(n-1)+fib_recursion(n-2)\n",
    "print(fib_recursion(8))"
   ]
  },
  {
   "cell_type": "code",
   "execution_count": null,
   "id": "5c31dd27",
   "metadata": {},
   "outputs": [],
   "source": [
    "# 28. Question: Write a function to check if a given string is a palindrome.\n",
    "#     string = \"radar\""
   ]
  },
  {
   "cell_type": "code",
   "execution_count": null,
   "id": "72ede06b",
   "metadata": {},
   "outputs": [],
   "source": [
    "def check_palin(s):\n",
    "    return s.lower()==s[::-1].lower()\n",
    "string = \"radar\"\n",
    "print(check_palin(string))"
   ]
  },
  {
   "cell_type": "code",
   "execution_count": null,
   "id": "da753aff",
   "metadata": {},
   "outputs": [],
   "source": [
    "# # 29. Question: Given a string containing just the characters '(', ')', '{', '}', '[' and ']', determine if the input string is valid. An input string is valid if:\n",
    "\n",
    "\n",
    "# # Open brackets are closed by the same type of brackets.\n",
    "# # Open brackets are closed in the correct order.\n",
    "# brackets = \"{[]}\"\n",
    "# print(is_valid_brackets(brackets))  # Output: True"
   ]
  },
  {
   "cell_type": "code",
   "execution_count": 22,
   "id": "10244f0e",
   "metadata": {},
   "outputs": [
    {
     "data": {
      "text/plain": [
       "True"
      ]
     },
     "execution_count": 22,
     "metadata": {},
     "output_type": "execute_result"
    }
   ],
   "source": [
    "def brackets(s1):\n",
    "    stack = []\n",
    "    dict1 = {\")\":\"(\",\"]\":\"[\",\"}\":\"{\"}\n",
    "    for s in s1:\n",
    "        if s in dict1:\n",
    "            if stack[-1]==dict1[s] and stack:\n",
    "                stack.pop()\n",
    "        else:\n",
    "            stack.append(s)\n",
    "    return True if len(stack)==0 else False\n",
    "            \n",
    "bracket = \"{[{}]}\"\n",
    "brackets(bracket)"
   ]
  },
  {
   "cell_type": "code",
   "execution_count": 23,
   "id": "7b6e4da8",
   "metadata": {},
   "outputs": [],
   "source": [
    "## appraoch: we create an empty list and a hashmap. hashmap is mapped to the opening and closing brackets. we iterate through the input and check if the input is opening bracket or closing bracket. If it is a opening bracket we append it to the stack. If it is the closing bracker then we check if the stack has any item already present in it and if the closing bracket is mapped to the opening bracket. Then we pop that element. Finally after iterating through all input we return true if stack is empty else false. "
   ]
  },
  {
   "cell_type": "code",
   "execution_count": null,
   "id": "e8533924",
   "metadata": {},
   "outputs": [],
   "source": [
    "# # 30. Question: Write a function to find the two numbers in a list that sum up to a specific target.\n",
    "# numbers = [2, 7, 11, 15]\n",
    "# target_value = 9\n",
    "# print(two_sum(numbers, target_value))  # Output: [0, 1]"
   ]
  },
  {
   "cell_type": "code",
   "execution_count": 7,
   "id": "a4741db3",
   "metadata": {},
   "outputs": [
    {
     "name": "stdout",
     "output_type": "stream",
     "text": [
      "[1, 3]\n"
     ]
    }
   ],
   "source": [
    "def sum_num(nums,target):\n",
    "#     for i in range(len(nums)):\n",
    "#         for j in range(i+1,len(nums)):\n",
    "#             if (nums[i]+nums[j]==target):\n",
    "#                 return [i,j]\n",
    "    num_dict={}\n",
    "    for i,num in enumerate(nums):\n",
    "        complement = target - num\n",
    "        if num in num_dict:\n",
    "            return [num_dict[num],i]\n",
    "        else:\n",
    "            num_dict[complement]=i\n",
    "numbers = [2, 7, 11, 15]\n",
    "target_value = 22\n",
    "print(sum_num(numbers, target_value))  # Output: [0, 1]"
   ]
  },
  {
   "cell_type": "code",
   "execution_count": null,
   "id": "78c51a50",
   "metadata": {},
   "outputs": [],
   "source": [
    "# # 31. Question: Write a function that reverses a string, but maintains the position of all non-alphabetic characters.\n",
    "# string = \"ab@cd#ef$gh\"\n",
    "# print(reverse_alphabet_only(string))  # Output: \"hg@fe#dc$ba\""
   ]
  },
  {
   "cell_type": "code",
   "execution_count": null,
   "id": "5f88ade8",
   "metadata": {},
   "outputs": [],
   "source": [
    "def reverse(s):\n",
    "    s=list(s)\n",
    "    i,j=0,len(s)-1\n",
    "    while i<j:\n",
    "        if not s[i].isalpha():\n",
    "            i+=1\n",
    "        if not  s[j].isalpha():\n",
    "            j-=1\n",
    "        else:\n",
    "            s[i],s[j] =s[j],s[i]\n",
    "            i+=1\n",
    "            j-=1\n",
    "    return \"\".join(s)\n",
    "s= \"ab@cd#ef$gh\"\n",
    "reverse(s)"
   ]
  },
  {
   "cell_type": "code",
   "execution_count": null,
   "id": "6223e85c",
   "metadata": {},
   "outputs": [],
   "source": [
    "# # 33. Question: Write a function to find all the prime numbers less than a given number n.\n",
    "# number = 30\n",
    "# print(find_primes(number))  # Output: [2, 3, 5, 7, 11, 13, 17, 19, 23, 29]"
   ]
  },
  {
   "cell_type": "code",
   "execution_count": null,
   "id": "d7d34598",
   "metadata": {},
   "outputs": [],
   "source": [
    "def prime(n):\n",
    "    resultant = []\n",
    "    for i in range(2,n+1):\n",
    "        flag = 0\n",
    "        for j in range(2,i):\n",
    "            if ((i%j)==0):\n",
    "                flag=1\n",
    "        if flag==0:\n",
    "            resultant.append(i)\n",
    "    return resultant\n",
    "n=50\n",
    "prime(n)"
   ]
  },
  {
   "cell_type": "code",
   "execution_count": null,
   "id": "f70931c6",
   "metadata": {},
   "outputs": [],
   "source": [
    "# 35. Question: Write a function to compute the factorial of a number using iteration.\n",
    "#     n=10"
   ]
  },
  {
   "cell_type": "code",
   "execution_count": 8,
   "id": "ed207c01",
   "metadata": {},
   "outputs": [
    {
     "data": {
      "text/plain": [
       "120"
      ]
     },
     "execution_count": 8,
     "metadata": {},
     "output_type": "execute_result"
    }
   ],
   "source": [
    "def factorial(n):\n",
    "    result = 1\n",
    "    for i in range(1,n+1):\n",
    "        result = result*i\n",
    "    return result\n",
    "\n",
    "n=5\n",
    "factorial(n)"
   ]
  },
  {
   "cell_type": "code",
   "execution_count": null,
   "id": "28926b46",
   "metadata": {},
   "outputs": [],
   "source": [
    "# 36. Question: Write a function that checks if a given word is an isogram (a word with no repeating letters).\n",
    "#     word = \"background\"\n",
    "# print(is_isogram(word))  # Output: True"
   ]
  },
  {
   "cell_type": "code",
   "execution_count": null,
   "id": "0bbffc41",
   "metadata": {},
   "outputs": [],
   "source": [
    "def isogram(s):\n",
    "    return len(s.lower())== len(set(s.lower()))\n",
    "s= \"background\"\n",
    "isogram(s)"
   ]
  },
  {
   "cell_type": "code",
   "execution_count": null,
   "id": "ea584d1a",
   "metadata": {},
   "outputs": [],
   "source": [
    "# 37. Question: Write a function to rotate an array to the right by k steps, where k is non-negative.\n",
    "#     array = [1,2,3,4,5,6,7]\n",
    "# steps = 3\n",
    "# print(rotate(array, steps))  # Output: [5,6,7,1,2,3,4]"
   ]
  },
  {
   "cell_type": "code",
   "execution_count": null,
   "id": "86182c05",
   "metadata": {},
   "outputs": [],
   "source": [
    "def rotate(l,steps):\n",
    "    steps = steps % len(l)\n",
    "    return(l[-steps:]+l[:-steps])\n",
    "array = [1,2,3,4,5,6,7]\n",
    "steps = 5\n",
    "print(rotate(array, steps))  # Output: [5,6,7,1,2,3,4]"
   ]
  },
  {
   "cell_type": "code",
   "execution_count": null,
   "id": "de2c0906",
   "metadata": {},
   "outputs": [],
   "source": [
    "# 39. Question: Write a function that finds the longest common subsequence (LCS) of two string\n",
    "#     str1 = \"ABCBDAB\"\n",
    "# str2 = \"BDCAB\"\n",
    "# print(lcs(str1, str2))  # Output: 4 (because \"BCAB\" is a common subsequence)"
   ]
  },
  {
   "cell_type": "code",
   "execution_count": null,
   "id": "6155adc5",
   "metadata": {},
   "outputs": [],
   "source": []
  }
 ],
 "metadata": {
  "kernelspec": {
   "display_name": "Python 3 (ipykernel)",
   "language": "python",
   "name": "python3"
  },
  "language_info": {
   "codemirror_mode": {
    "name": "ipython",
    "version": 3
   },
   "file_extension": ".py",
   "mimetype": "text/x-python",
   "name": "python",
   "nbconvert_exporter": "python",
   "pygments_lexer": "ipython3",
   "version": "3.11.4"
  }
 },
 "nbformat": 4,
 "nbformat_minor": 5
}
