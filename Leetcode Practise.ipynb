{
 "cells": [
  {
   "cell_type": "markdown",
   "id": "db3f6e5c",
   "metadata": {},
   "source": [
    "# Arrays"
   ]
  },
  {
   "cell_type": "markdown",
   "id": "c623e38e",
   "metadata": {},
   "source": [
    "## 1. Given an integer array nums, return true if any value appears at least twice in the array, and return false if every element is distinct.\n",
    "\n",
    " \n",
    "\n",
    "Example 1:\n",
    "\n",
    "Input: nums = [1,2,3,1]\n",
    "Output: true\n",
    "Example 2:\n",
    "\n",
    "Input: nums = [1,2,3,4]\n",
    "Output: false\n",
    "Example 3:\n",
    "\n",
    "Input: nums = [1,1,1,3,3,4,3,2,4,2]\n",
    "Output: true"
   ]
  },
  {
   "cell_type": "markdown",
   "id": "cbd2ca9b",
   "metadata": {},
   "source": [
    "# Intuition\n",
    "\n",
    "Brute force: We compare each and every item with other item and if it repeats we return True. Due to multi-check it \n",
    "requires O(n^2) time and 0(1) time\n",
    "    \n",
    "Mid level solution: To reduce time complexity we can go in only one direction for the checks. By sorting and then only \n",
    "checking in 1 direction. Time: O(nlogn) and space o(1)\n",
    "    \n",
    "Optimized Solution: We create a dictionary and add occurence as per each element. Then we iterate through each item of\n",
    "list again and return true if the value of any key is more than 1"
   ]
  },
  {
   "cell_type": "code",
   "execution_count": 4,
   "id": "03e2a351",
   "metadata": {},
   "outputs": [],
   "source": [
    "# Code:\n",
    "\n",
    "class Solution(object):\n",
    "    def containsDuplicate(self, nums):\n",
    "        \"\"\"\n",
    "        :type nums: List[int]\n",
    "        :rtype: bool\n",
    "        \"\"\"\n",
    "        dict1 = {}\n",
    "        for num in nums:\n",
    "            if num in dict1:\n",
    "                dict1[num] +=1\n",
    "            else:\n",
    "                dict1[num]=1\n",
    "        \n",
    "        for num in nums:\n",
    "            if dict1[num]>1:\n",
    "                return True\n",
    "        return False\n",
    "        \n"
   ]
  },
  {
   "cell_type": "markdown",
   "id": "c8a81906",
   "metadata": {},
   "source": [
    "## 2.Given two strings s and t, return true if t is an anagram of s, and false otherwise.\n",
    "\n",
    "An Anagram is a word or phrase formed by rearranging the letters of a different word or phrase, typically using all the original letters exactly once.\n",
    "\n",
    " \n",
    "\n",
    "Example 1:\n",
    "\n",
    "Input: s = \"anagram\", t = \"nagaram\"\n",
    "Output: true\n",
    "Example 2:\n",
    "\n",
    "Input: s = \"rat\", t = \"car\"\n",
    "Output: false\n",
    " \n",
    "\n",
    "Constraints:\n",
    "\n",
    "1 <= s.length, t.length <= 5 * 104\n",
    "s and t consist of lowercase English letters."
   ]
  },
  {
   "cell_type": "markdown",
   "id": "6ec3d1fe",
   "metadata": {},
   "source": [
    "## Intution\n",
    "\n",
    "1. Dictionary: we can iterate through the strings, and create dictionary for each string as s and t. We will add letter and their occurences as key-value. Once dictionary is created, we compare both dictionaries with respect to key and value pair. If it is same we return True else False. As we compare 2 dictionary Time complexity is O(S+T) and space complexity is 2 dictionary space O(S+T)\n",
    "\n",
    "2. Sorting: we can sort both string and then compare it as a boolean comparison. For sorting time complexity O(N)= nlogn and space complexity is O(!)"
   ]
  },
  {
   "cell_type": "code",
   "execution_count": 5,
   "id": "6efd3fd3",
   "metadata": {},
   "outputs": [],
   "source": [
    "# Code\n",
    "\n",
    "class Solution(object):\n",
    "    def isAnagram(self, s, t):\n",
    "        \"\"\"\n",
    "        :type s: str\n",
    "        :type t: str\n",
    "        :rtype: bool\n",
    "        \"\"\"\n",
    "        return sorted(s)==sorted(t)\n",
    "        "
   ]
  },
  {
   "cell_type": "markdown",
   "id": "54bbc42e",
   "metadata": {},
   "source": [
    "# 3. Given an array of integers nums and an integer target, return indices of the two numbers such that they add up to target.\n",
    "\n",
    "You may assume that each input would have exactly one solution, and you may not use the same element twice.\n",
    "\n",
    "You can return the answer in any order.\n",
    "\n",
    " \n",
    "\n",
    "Example 1:\n",
    "\n",
    "Input: nums = [2,7,11,15], target = 9\n",
    "Output: [0,1]\n",
    "Explanation: Because nums[0] + nums[1] == 9, we return [0, 1].\n",
    "Example 2:\n",
    "\n",
    "Input: nums = [3,2,4], target = 6\n",
    "Output: [1,2]\n",
    "Example 3:\n",
    "\n",
    "Input: nums = [3,3], target = 6\n",
    "Output: [0,1]"
   ]
  },
  {
   "cell_type": "markdown",
   "id": "a9d98c94",
   "metadata": {},
   "source": [
    "# Intuition\n",
    "\n",
    "1. Brute force: We can iterate through each item of the list, calculate the diff with the target and check if that diff exist in the list. But we will check each number combination with other number combination so time complexity of this will be O(n^2). \n",
    "\n",
    "2. Hashmap: we will add the diff as the key and index of the current element as value. If the next number is present as a diff in the hashmap we will return the index of the next number and the value of the diff from the hashmap. The time complexity for each check is given by O(n) and space is occupied by hashmap so it can be upto all the elements of list so O(n)"
   ]
  },
  {
   "cell_type": "code",
   "execution_count": 1,
   "id": "f95008c8",
   "metadata": {},
   "outputs": [],
   "source": [
    "# Code\n",
    "\n",
    "class Solution(object):\n",
    "    def twoSum(self, nums, target):\n",
    "        \"\"\"\n",
    "        :type nums: List[int]\n",
    "        :type target: int\n",
    "        :rtype: List[int]\n",
    "        \"\"\"\n",
    "        reference = {}\n",
    "        for i,num in enumerate(nums):\n",
    "            complement = target-num\n",
    "            if num in reference:\n",
    "                return [reference[num],i]\n",
    "            else:\n",
    "                reference[complement]=i\n",
    "        "
   ]
  },
  {
   "cell_type": "markdown",
   "id": "a4824555",
   "metadata": {},
   "source": [
    "# 4. Given an array of strings strs, group the anagrams together. You can return the answer in any order.\n",
    "\n",
    "An Anagram is a word or phrase formed by rearranging the letters of a different word or phrase, typically using all the original letters exactly once.\n",
    "\n",
    " \n",
    "\n",
    "Example 1:\n",
    "\n",
    "Input: strs = [\"eat\",\"tea\",\"tan\",\"ate\",\"nat\",\"bat\"]\n",
    "Output: [[\"bat\"],[\"nat\",\"tan\"],[\"ate\",\"eat\",\"tea\"]]\n",
    "Example 2:\n",
    "\n",
    "Input: strs = [\"\"]\n",
    "Output: [[\"\"]]\n",
    "Example 3:\n",
    "\n",
    "Input: strs = [\"a\"]\n",
    "Output: [[\"a\"]]"
   ]
  },
  {
   "cell_type": "markdown",
   "id": "81848fe6",
   "metadata": {},
   "source": [
    "# Intuition\n",
    "\n",
    "Brute Force: we sort each string of the list. Then compare each sorted string and then return the equal string. But sorting time complexity is nlogn and we will try to do this for all the item of the list so time complexity will become O(m*nlogn) and we have to then compare the sorted strings as well. so it will add m^2 complexity. \n",
    "\n",
    "hashmap: we can store key- value pair as key: count of characters from a-z and value: strings having same count. for finding count we have to create a list of 26 indexes and increment 1 count as we encounter more count. Also list cannot be the key of dictionary so we convert it into a tuple. As we may face runtime error when we try to add value to the index which is not yet create, we initialize a default dict with list as the value datatype. We count character of each string and we do it for every string so time complexity is O(n*m)"
   ]
  },
  {
   "cell_type": "code",
   "execution_count": 3,
   "id": "a9fa2646",
   "metadata": {},
   "outputs": [],
   "source": [
    "# Code\n",
    "\n",
    "class Solution(object):\n",
    "    def groupAnagrams(self, strs):\n",
    "        \"\"\"\n",
    "        :type strs: List[str]\n",
    "        :rtype: List[List[str]]\n",
    "        \"\"\"\n",
    "        res = defaultdict(list)\n",
    "\n",
    "        for str in strs:\n",
    "            count = [0] * 26\n",
    "            for c in str:\n",
    "                count[ord(c)-ord('a')]+=1\n",
    "            res[tuple(count)].append(str)\n",
    "        return res.values()\n",
    "        "
   ]
  },
  {
   "cell_type": "code",
   "execution_count": null,
   "id": "cd3b7011",
   "metadata": {},
   "outputs": [],
   "source": []
  }
 ],
 "metadata": {
  "kernelspec": {
   "display_name": "Python 3 (ipykernel)",
   "language": "python",
   "name": "python3"
  },
  "language_info": {
   "codemirror_mode": {
    "name": "ipython",
    "version": 3
   },
   "file_extension": ".py",
   "mimetype": "text/x-python",
   "name": "python",
   "nbconvert_exporter": "python",
   "pygments_lexer": "ipython3",
   "version": "3.11.4"
  }
 },
 "nbformat": 4,
 "nbformat_minor": 5
}
