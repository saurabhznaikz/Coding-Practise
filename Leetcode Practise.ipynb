{
 "cells": [
  {
   "cell_type": "markdown",
   "id": "db3f6e5c",
   "metadata": {},
   "source": [
    "# Arrays"
   ]
  },
  {
   "cell_type": "markdown",
   "id": "c623e38e",
   "metadata": {},
   "source": [
    "## 1. Given an integer array nums, return true if any value appears at least twice in the array, and return false if every element is distinct.\n",
    "\n",
    " \n",
    "\n",
    "Example 1:\n",
    "\n",
    "Input: nums = [1,2,3,1]\n",
    "Output: true\n",
    "Example 2:\n",
    "\n",
    "Input: nums = [1,2,3,4]\n",
    "Output: false\n",
    "Example 3:\n",
    "\n",
    "Input: nums = [1,1,1,3,3,4,3,2,4,2]\n",
    "Output: true"
   ]
  },
  {
   "cell_type": "markdown",
   "id": "cbd2ca9b",
   "metadata": {},
   "source": [
    "# Intuition\n",
    "\n",
    "Brute force: We compare each and every item with other item and if it repeats we return True. Due to multi-check it \n",
    "requires O(n^2) time and 0(1) time\n",
    "    \n",
    "Mid level solution: To reduce time complexity we can go in only one direction for the checks. By sorting and then only \n",
    "checking in 1 direction. Time: O(nlogn) and space o(1)\n",
    "    \n",
    "Optimized Solution: We create a dictionary and add occurence as per each element. Then we iterate through each item of\n",
    "list again and return true if the value of any key is more than 1"
   ]
  },
  {
   "cell_type": "code",
   "execution_count": 4,
   "id": "03e2a351",
   "metadata": {},
   "outputs": [],
   "source": [
    "# Code:\n",
    "\n",
    "class Solution(object):\n",
    "    def containsDuplicate(self, nums):\n",
    "        \"\"\"\n",
    "        :type nums: List[int]\n",
    "        :rtype: bool\n",
    "        \"\"\"\n",
    "        dict1 = {}\n",
    "        for num in nums:\n",
    "            if num in dict1:\n",
    "                dict1[num] +=1\n",
    "            else:\n",
    "                dict1[num]=1\n",
    "        \n",
    "        for num in nums:\n",
    "            if dict1[num]>1:\n",
    "                return True\n",
    "        return False\n",
    "        \n"
   ]
  },
  {
   "cell_type": "markdown",
   "id": "c8a81906",
   "metadata": {},
   "source": [
    "## 2.Given two strings s and t, return true if t is an anagram of s, and false otherwise.\n",
    "\n",
    "An Anagram is a word or phrase formed by rearranging the letters of a different word or phrase, typically using all the original letters exactly once.\n",
    "\n",
    " \n",
    "\n",
    "Example 1:\n",
    "\n",
    "Input: s = \"anagram\", t = \"nagaram\"\n",
    "Output: true\n",
    "Example 2:\n",
    "\n",
    "Input: s = \"rat\", t = \"car\"\n",
    "Output: false\n",
    " \n",
    "\n",
    "Constraints:\n",
    "\n",
    "1 <= s.length, t.length <= 5 * 104\n",
    "s and t consist of lowercase English letters."
   ]
  },
  {
   "cell_type": "markdown",
   "id": "6ec3d1fe",
   "metadata": {},
   "source": [
    "## Intution\n",
    "\n",
    "1. Dictionary: we can iterate through the strings, and create dictionary for each string as s and t. We will add letter and their occurences as key-value. Once dictionary is created, we compare both dictionaries with respect to key and value pair. If it is same we return True else False. As we compare 2 dictionary Time complexity is O(S+T) and space complexity is 2 dictionary space O(S+T)\n",
    "\n",
    "2. Sorting: we can sort both string and then compare it as a boolean comparison. For sorting time complexity O(N)= nlogn and space complexity is O(!)"
   ]
  },
  {
   "cell_type": "code",
   "execution_count": 5,
   "id": "6efd3fd3",
   "metadata": {},
   "outputs": [],
   "source": [
    "# Code\n",
    "\n",
    "class Solution(object):\n",
    "    def isAnagram(self, s, t):\n",
    "        \"\"\"\n",
    "        :type s: str\n",
    "        :type t: str\n",
    "        :rtype: bool\n",
    "        \"\"\"\n",
    "        return sorted(s)==sorted(t)\n",
    "        "
   ]
  },
  {
   "cell_type": "markdown",
   "id": "54bbc42e",
   "metadata": {},
   "source": [
    "# 3. Given an array of integers nums and an integer target, return indices of the two numbers such that they add up to target.\n",
    "\n",
    "You may assume that each input would have exactly one solution, and you may not use the same element twice.\n",
    "\n",
    "You can return the answer in any order.\n",
    "\n",
    " \n",
    "\n",
    "Example 1:\n",
    "\n",
    "Input: nums = [2,7,11,15], target = 9\n",
    "Output: [0,1]\n",
    "Explanation: Because nums[0] + nums[1] == 9, we return [0, 1].\n",
    "Example 2:\n",
    "\n",
    "Input: nums = [3,2,4], target = 6\n",
    "Output: [1,2]\n",
    "Example 3:\n",
    "\n",
    "Input: nums = [3,3], target = 6\n",
    "Output: [0,1]"
   ]
  },
  {
   "cell_type": "markdown",
   "id": "a9d98c94",
   "metadata": {},
   "source": [
    "# Intuition\n",
    "\n",
    "1. Brute force: We can iterate through each item of the list, calculate the diff with the target and check if that diff exist in the list. But we will check each number combination with other number combination so time complexity of this will be O(n^2). \n",
    "\n",
    "2. Hashmap: we will add the diff as the key and index of the current element as value. If the next number is present as a diff in the hashmap we will return the index of the next number and the value of the diff from the hashmap. The time complexity for each check is given by O(n) and space is occupied by hashmap so it can be upto all the elements of list so O(n)"
   ]
  },
  {
   "cell_type": "code",
   "execution_count": 1,
   "id": "f95008c8",
   "metadata": {},
   "outputs": [],
   "source": [
    "# Code\n",
    "\n",
    "class Solution(object):\n",
    "    def twoSum(self, nums, target):\n",
    "        \"\"\"\n",
    "        :type nums: List[int]\n",
    "        :type target: int\n",
    "        :rtype: List[int]\n",
    "        \"\"\"\n",
    "        reference = {}\n",
    "        for i,num in enumerate(nums):\n",
    "            complement = target-num\n",
    "            if num in reference:\n",
    "                return [reference[num],i]\n",
    "            else:\n",
    "                reference[complement]=i\n",
    "        "
   ]
  },
  {
   "cell_type": "markdown",
   "id": "a4824555",
   "metadata": {},
   "source": [
    "# 4. Given an array of strings strs, group the anagrams together. You can return the answer in any order.\n",
    "\n",
    "An Anagram is a word or phrase formed by rearranging the letters of a different word or phrase, typically using all the original letters exactly once.\n",
    "\n",
    " \n",
    "\n",
    "Example 1:\n",
    "\n",
    "Input: strs = [\"eat\",\"tea\",\"tan\",\"ate\",\"nat\",\"bat\"]\n",
    "Output: [[\"bat\"],[\"nat\",\"tan\"],[\"ate\",\"eat\",\"tea\"]]\n",
    "Example 2:\n",
    "\n",
    "Input: strs = [\"\"]\n",
    "Output: [[\"\"]]\n",
    "Example 3:\n",
    "\n",
    "Input: strs = [\"a\"]\n",
    "Output: [[\"a\"]]"
   ]
  },
  {
   "cell_type": "markdown",
   "id": "81848fe6",
   "metadata": {},
   "source": [
    "# Intuition\n",
    "\n",
    "Brute Force: we sort each string of the list. Then compare each sorted string and then return the equal string. But sorting time complexity is nlogn and we will try to do this for all the item of the list so time complexity will become O(m*nlogn) and we have to then compare the sorted strings as well. so it will add m^2 complexity. \n",
    "\n",
    "hashmap: we can store key- value pair as key: count of characters from a-z and value: strings having same count. for finding count we have to create a list of 26 indexes and increment 1 count as we encounter more count. Also list cannot be the key of dictionary so we convert it into a tuple. As we may face runtime error when we try to add value to the index which is not yet create, we initialize a default dict with list as the value datatype. We count character of each string and we do it for every string so time complexity is O(n*m)"
   ]
  },
  {
   "cell_type": "code",
   "execution_count": 3,
   "id": "a9fa2646",
   "metadata": {},
   "outputs": [],
   "source": [
    "# Code\n",
    "\n",
    "class Solution(object):\n",
    "    def groupAnagrams(self, strs):\n",
    "        \"\"\"\n",
    "        :type strs: List[str]\n",
    "        :rtype: List[List[str]]\n",
    "        \"\"\"\n",
    "        res = defaultdict(list)\n",
    "\n",
    "        for str in strs:\n",
    "            count = [0] * 26\n",
    "            for c in str:\n",
    "                count[ord(c)-ord('a')]+=1\n",
    "            res[tuple(count)].append(str)\n",
    "        return res.values()\n",
    "        "
   ]
  },
  {
   "cell_type": "markdown",
   "id": "945c5446",
   "metadata": {},
   "source": [
    "# 5. Given an integer array nums and an integer k, return the k most frequent elements. You may return the answer in any order.\n",
    "\n",
    " \n",
    "\n",
    "Example 1:\n",
    "\n",
    "Input: nums = [1,1,1,2,2,3], k = 2\n",
    "Output: [1,2]\n",
    "Example 2:\n",
    "\n",
    "Input: nums = [1], k = 1\n",
    "Output: [1]"
   ]
  },
  {
   "cell_type": "markdown",
   "id": "891296a0",
   "metadata": {},
   "source": [
    "# Intuition\n",
    "\n",
    "1. Hashmap and Sorting: Iterate trough all the elements and create hashmaps where key is element and value is no of occurences. The sort the hashmap based on the values. Take out the k no of highest occuring element. The time complexit is nlogn as the sorting of entire values set is done. Space complexity is n\n",
    "\n",
    "2. Hashmap and bucket Sort: Iterate through all elements and create hashmap as earlier. For sorting use the concept of bucket sort. Create an empty nested list where index is no of occurences and value is the list of numbers that occur 'index no of times'. The iterate reversely through this list. and keep adding the element simultaneously in output list. Once the output list becomes the size of k, return the output list. The time complexity will be O(n) as we iterate throudh the nested list onces and space complexit is n due to hashmap\n"
   ]
  },
  {
   "cell_type": "code",
   "execution_count": 20,
   "id": "c10f72ad",
   "metadata": {},
   "outputs": [
    {
     "data": {
      "text/plain": [
       "[1, 2]"
      ]
     },
     "execution_count": 20,
     "metadata": {},
     "output_type": "execute_result"
    }
   ],
   "source": [
    "def topKFrequent(nums, k):\n",
    "        \"\"\"\n",
    "        :type nums: List[int]\n",
    "        :type k: int\n",
    "        :rtype: List[int]\n",
    "        \"\"\"\n",
    "        freq = {}\n",
    "        # Creating hashmap key:number value: occurences\n",
    "        for num in nums:\n",
    "            freq[num]= freq.get(num,0)+1\n",
    "            \n",
    "        # Creating a nested list where index is no of occurences and value is list of numbers that occur that much of time\n",
    "        list1 = [[] for i in range(len(nums))]\n",
    "        for key,values in freq.items():\n",
    "            list1[values].append(key)\n",
    "        \n",
    "        # Creating output list by reverse traversal\n",
    "        output = []\n",
    "        for i in range(len(list1)-1,0,-1):\n",
    "            for n in list1[i]:\n",
    "                output.append(n)\n",
    "                if len(output)==k:\n",
    "                    return output\n",
    "            \n",
    "topKFrequent([1,1,1,2,2,2,3],2)"
   ]
  },
  {
   "cell_type": "markdown",
   "id": "f28b7e05",
   "metadata": {},
   "source": [
    "# 6.Given an integer array nums, return an array answer such that answer[i] is equal to the product of all the elements of nums except nums[i].\n",
    "\n",
    "The product of any prefix or suffix of nums is guaranteed to fit in a 32-bit integer.\n",
    "\n",
    "You must write an algorithm that runs in O(n) time and without using the division operation.\n",
    "\n",
    " \n",
    "\n",
    "Example 1:\n",
    "\n",
    "Input: nums = [1,2,3,4]\n",
    "Output: [24,12,8,6]\n",
    "Example 2:\n",
    "\n",
    "Input: nums = [-1,1,0,-3,3]\n",
    "Output: [0,0,9,0,0]"
   ]
  },
  {
   "cell_type": "markdown",
   "id": "ab03340b",
   "metadata": {},
   "source": [
    "# Intuition\n",
    "\n",
    "1. Prefix postfix arrays: We create 2 arrays such that prefix will store the product of the numbers before the current index number in prefix array and the product of numbers after the current index number in postfix arrays. Then we multiply the previous prefix number and post postfix number to store in the output array.\n",
    "\n",
    "2. Without additional arrays: We traverse once straight to create a prefix array. we initiate prefix variable with 1. We then replace the resultant array value with prefix. we keep updating prefix with the product of prefix and the input array. Once the prefix array is generated we traverse in reverse direction to create postfix arrray. We initiate postfix variabl with 1. we take product of postfix variable and prefix array and store in result array. we update postfix variable with product of postfix and input array. Output is found in input array"
   ]
  },
  {
   "cell_type": "code",
   "execution_count": 34,
   "id": "407e41f7",
   "metadata": {},
   "outputs": [
    {
     "name": "stdout",
     "output_type": "stream",
     "text": [
      "[1, 2, 3, 4]\n",
      "[1, 1, 2, 6]\n"
     ]
    },
    {
     "data": {
      "text/plain": [
       "[24, 12, 8, 6]"
      ]
     },
     "execution_count": 34,
     "metadata": {},
     "output_type": "execute_result"
    }
   ],
   "source": [
    "# Code\n",
    "\n",
    "\n",
    "def productExceptSelf(nums):\n",
    "        \"\"\"\n",
    "        :type nums: List[int]\n",
    "        :rtype: List[int]\n",
    "        \"\"\"\n",
    "        result = [1]*len(nums)\n",
    "        print(nums)\n",
    "        # Creating prefix array\n",
    "        prefix=1\n",
    "        for i in range(len(nums)):\n",
    "            result[i] = prefix\n",
    "            prefix*=nums[i]\n",
    "        print(result)\n",
    "            \n",
    "        postfix = 1\n",
    "        for i in range(len(nums)-1,-1,-1):\n",
    "            result[i]=result[i]*postfix\n",
    "            postfix*= nums[i]\n",
    "            \n",
    "        return result\n",
    "        \n",
    "productExceptSelf([1,2,3,4])"
   ]
  },
  {
   "cell_type": "markdown",
   "id": "84794475",
   "metadata": {},
   "source": [
    "# 7.Determine if a 9 x 9 Sudoku board is valid. Only the filled cells need to be validated according to the following rules:\n",
    "\n",
    "Each row must contain the digits 1-9 without repetition.\n",
    "Each column must contain the digits 1-9 without repetition.\n",
    "Each of the nine 3 x 3 sub-boxes of the grid must contain the digits 1-9 without repetition."
   ]
  },
  {
   "cell_type": "markdown",
   "id": "fd72c98d",
   "metadata": {},
   "source": [
    "# Intuition\n",
    "\n",
    "1. We create 3 hashsets: 1st to hold the row elements,2nd to hold column elements and 3rd to hold subgrid elements. We check if the element to check is an \".\" then we pass that. \n",
    "\n"
   ]
  },
  {
   "cell_type": "code",
   "execution_count": 12,
   "id": "1306db2c",
   "metadata": {},
   "outputs": [
    {
     "data": {
      "text/plain": [
       "True"
      ]
     },
     "execution_count": 12,
     "metadata": {},
     "output_type": "execute_result"
    }
   ],
   "source": [
    "# Code\n",
    "import collections\n",
    "def isValidSudoku(board):\n",
    "        \"\"\"\n",
    "        :type board: List[List[str]]\n",
    "        :rtype: bool\n",
    "        \"\"\"\n",
    "        rows = collections.defaultdict(set)\n",
    "        columns = collections.defaultdict(set)\n",
    "        subgrid = collections.defaultdict(set)\n",
    "        \n",
    "        for r in range(9):\n",
    "            for c in range(9):\n",
    "                if (board[r][c]==\".\"):\n",
    "                    continue\n",
    "                if( board[r][c] in rows[r] or board[r][c] in columns[c] or board[r][c] in subgrid[(r//3,c//3)]):\n",
    "                    return False\n",
    "                rows[r].add(board[r][c])\n",
    "                columns[c].add(board[r][c])\n",
    "                subgrid[(r//3,c//3)].add(board[r][c])\n",
    "        return True\n",
    "board = [[\"5\",\"3\",\".\",\".\",\"7\",\".\",\".\",\".\",\".\"]\n",
    ",[\"6\",\".\",\".\",\"1\",\"9\",\"5\",\".\",\".\",\".\"]\n",
    ",[\".\",\"9\",\"8\",\".\",\".\",\".\",\".\",\"6\",\".\"]\n",
    ",[\"8\",\".\",\".\",\".\",\"6\",\".\",\".\",\".\",\"3\"]\n",
    ",[\"4\",\".\",\".\",\"8\",\".\",\"3\",\".\",\".\",\"1\"]\n",
    ",[\"7\",\".\",\".\",\".\",\"2\",\".\",\".\",\".\",\"6\"]\n",
    ",[\".\",\"6\",\".\",\".\",\".\",\".\",\"2\",\"8\",\".\"]\n",
    ",[\".\",\".\",\".\",\"4\",\"1\",\"9\",\".\",\".\",\"5\"]\n",
    ",[\".\",\".\",\".\",\".\",\"8\",\".\",\".\",\"7\",\"9\"]]\n",
    "\n",
    "isValidSudoku(board)"
   ]
  },
  {
   "cell_type": "markdown",
   "id": "53149155",
   "metadata": {},
   "source": [
    "# 8. Given an unsorted array of integers nums, return the length of the longest consecutive elements sequence.\n",
    "\n",
    "You must write an algorithm that runs in O(n) time.\n",
    "\n",
    " \n",
    "\n",
    "Example 1:\n",
    "\n",
    "Input: nums = [100,4,200,1,3,2]\n",
    "Output: 4\n",
    "Explanation: The longest consecutive elements sequence is [1, 2, 3, 4]. Therefore its length is 4.\n",
    "Example 2:\n",
    "\n",
    "Input: nums = [0,3,7,2,5,8,4,6,0,1]\n",
    "Output: 9"
   ]
  },
  {
   "cell_type": "markdown",
   "id": "4a0167c7",
   "metadata": {},
   "source": [
    "# Intuition\n",
    "\n",
    "1. Sorting: we can sort the list and then check the longest consecutive sequence. But sorting requires nlogn time complexity\n",
    "\n",
    "2. optimum approach: we convert a list into set. we initially set the longest seq length to 0. Then we iterate through the list. We check if that number is the start of sequence by checking whether if (n-1) elemetn is present in the set. If the (n-1) elemetn is not present then our element is start of the sequence. we can then loop through to find next elements of sequence and keep incrementing the length of the sequence. Once the sequence is completed we check if the length of current sequence is greater then our longest seq and we return the longest seq."
   ]
  },
  {
   "cell_type": "code",
   "execution_count": 14,
   "id": "ab799cd3",
   "metadata": {},
   "outputs": [
    {
     "data": {
      "text/plain": [
       "4"
      ]
     },
     "execution_count": 14,
     "metadata": {},
     "output_type": "execute_result"
    }
   ],
   "source": [
    "# Code\n",
    "def longestConsecutive(nums):\n",
    "        \"\"\"\n",
    "        :type nums: List[int]\n",
    "        :rtype: int\n",
    "        \"\"\"\n",
    "        numSet = set(nums)\n",
    "        longest = 0\n",
    "        for n in nums:\n",
    "            if (n-1) not in numSet:\n",
    "                length = 0\n",
    "                while (n+length) in numSet:\n",
    "                    length+=1\n",
    "                longest = max(longest,length)\n",
    "        return longest\n",
    "        \n",
    "        \n",
    "        \n",
    "nums = [100,4,200,1,3,2]\n",
    "longestConsecutive(nums)"
   ]
  },
  {
   "cell_type": "markdown",
   "id": "7faeb983",
   "metadata": {},
   "source": [
    "# 2 Pointer Problems"
   ]
  },
  {
   "cell_type": "markdown",
   "id": "f85dbbaf",
   "metadata": {},
   "source": [
    "## 1. A phrase is a palindrome if, after converting all uppercase letters into lowercase letters and removing all non-alphanumeric characters, it reads the same forward and backward. Alphanumeric characters include letters and numbers.\n",
    "\n",
    "Given a string s, return true if it is a palindrome, or false otherwise.\n",
    "\n",
    " \n",
    "\n",
    "Example 1:\n",
    "\n",
    "Input: s = \"A man, a plan, a canal: Panama\"\n",
    "Output: true\n",
    "Explanation: \"amanaplanacanalpanama\" is a palindrome.\n",
    "Example 2:\n",
    "\n",
    "Input: s = \"race a car\"\n",
    "Output: false\n",
    "Explanation: \"raceacar\" is not a palindrome.\n",
    "Example 3:\n",
    "\n",
    "Input: s = \" \"\n",
    "Output: true\n",
    "Explanation: s is an empty string \"\" after removing non-alphanumeric characters.\n",
    "Since an empty string reads the same forward and backward, it is a palindrome."
   ]
  },
  {
   "cell_type": "markdown",
   "id": "e1a84732",
   "metadata": {},
   "source": [
    "## Intuition\n",
    "\n",
    "1. we can iterate through the string by only picking up alphanumeric characters. Then add them to a new string once we convert them into lowercase. We compare the new string with the reverse of itself and return boolean based on it. But this solution uses extra memory and inbuilt functions\n",
    "\n",
    "2. 2 pointers: We point at the start and end of the string. we check if these both pointers show same character in lower case. And this check is only done when l<r and both the characters represent alphanumeric. If the character does not represent alphanumeric we increment/decrement pointer. Also if the check gives postive responce we increment/decrement pointers."
   ]
  },
  {
   "cell_type": "code",
   "execution_count": 12,
   "id": "cb3ceafc",
   "metadata": {},
   "outputs": [
    {
     "data": {
      "text/plain": [
       "False"
      ]
     },
     "execution_count": 12,
     "metadata": {},
     "output_type": "execute_result"
    }
   ],
   "source": [
    "# Code\n",
    "\n",
    "# Approach 1\n",
    "\n",
    "# def isPalindrome(s):\n",
    "#         \"\"\"\n",
    "#         :type s: str\n",
    "#         :rtype: bool\n",
    "#         \"\"\"\n",
    "#         newString = \"\"\n",
    "#         for c in s:\n",
    "#             if c.isalnum():\n",
    "#                 newString+=c.lower()\n",
    "#         return newString==newString[::-1]\n",
    "                \n",
    "        \n",
    "# s= \"A man, a plan, a canal: Panama\"\n",
    "# isPalindrome(s)\n",
    "\n",
    "# Approach 2\n",
    "\n",
    "def isPalindrome(s):\n",
    "        \"\"\"\n",
    "        :type s: str\n",
    "        :rtype: bool\n",
    "        \"\"\"\n",
    "        l,r = 0, len(s)-1\n",
    "        \n",
    "        while(l<r):\n",
    "            while(l<r and not s[l].isalnum()):\n",
    "                l+=1\n",
    "            while(l<r and not (s[r].isalnum())):\n",
    "                r-=1\n",
    "            if(s[l].lower() != s[r].lower()):\n",
    "                return False\n",
    "            l+=1\n",
    "            r-=1\n",
    "        return True\n",
    "                \n",
    "        \n",
    "s= \"race a car\"\n",
    "isPalindrome(s)"
   ]
  },
  {
   "cell_type": "markdown",
   "id": "7777efef",
   "metadata": {},
   "source": [
    "## 2. Given a 1-indexed array of integers numbers that is already sorted in non-decreasing order, find two numbers such that they add up to a specific target number. Let these two numbers be numbers[index1] and numbers[index2] where 1 <= index1 < index2 <= numbers.length.\n",
    "\n",
    "Return the indices of the two numbers, index1 and index2, added by one as an integer array [index1, index2] of length 2.\n",
    "\n",
    "The tests are generated such that there is exactly one solution. You may not use the same element twice.\n",
    "\n",
    "Your solution must use only constant extra space.\n",
    "\n",
    " \n",
    "\n",
    "Example 1:\n",
    "\n",
    "Input: numbers = [2,7,11,15], target = 9\n",
    "Output: [1,2]\n",
    "Explanation: The sum of 2 and 7 is 9. Therefore, index1 = 1, index2 = 2. We return [1, 2].\n",
    "Example 2:\n",
    "\n",
    "Input: numbers = [2,3,4], target = 6\n",
    "Output: [1,3]\n",
    "Explanation: The sum of 2 and 4 is 6. Therefore index1 = 1, index2 = 3. We return [1, 3].\n",
    "Example 3:\n",
    "\n",
    "Input: numbers = [-1,0], target = -1\n",
    "Output: [1,2]\n",
    "Explanation: The sum of -1 and 0 is -1. Therefore index1 = 1, index2 = 2. We return [1, 2]."
   ]
  },
  {
   "cell_type": "markdown",
   "id": "12408d15",
   "metadata": {},
   "source": [
    "## Intuition\n",
    "1. Brute Force: we can check each element with other element by taking addition of both and then comparing it with the target. But this appraoch will require n^2 time complexity. \n",
    "\n",
    "2. 2 pointers: As the array is sorted one we can use 2 pointer approach here. We take the sum of left pointer element with right. If it is greater than target we reduce right, if it is less than target we increase left and if the sum is equal to target we return a list of l+1 and r-1"
   ]
  },
  {
   "cell_type": "code",
   "execution_count": 19,
   "id": "9c7b19e5",
   "metadata": {},
   "outputs": [
    {
     "data": {
      "text/plain": [
       "[1, 2]"
      ]
     },
     "execution_count": 19,
     "metadata": {},
     "output_type": "execute_result"
    }
   ],
   "source": [
    "# Code\n",
    "def twoSum(numbers, target):\n",
    "        \"\"\"\n",
    "        :type numbers: List[int]\n",
    "        :type target: int\n",
    "        :rtype: List[int]\n",
    "        \"\"\"\n",
    "        l, r=0,len(numbers)-1\n",
    "        while(l<r):\n",
    "            sumNum = numbers[l]+numbers[r]\n",
    "            if sumNum < target:\n",
    "                l+=1\n",
    "            elif sumNum > target:\n",
    "                r-=1\n",
    "            else:\n",
    "                return [l+1,r+1]\n",
    "        \n",
    "numbers = [2,7,11,15]\n",
    "target = 9\n",
    "twoSum(numbers, target)"
   ]
  },
  {
   "cell_type": "markdown",
   "id": "8f99bda9",
   "metadata": {},
   "source": [
    "# 3. Given an integer array nums, return all the triplets [nums[i], nums[j], nums[k]] such that i != j, i != k, and j != k, and nums[i] + nums[j] + nums[k] == 0.\n",
    "\n",
    "Notice that the solution set must not contain duplicate triplets.\n",
    "\n",
    " \n",
    "\n",
    "Example 1:\n",
    "\n",
    "Input: nums = [-1,0,1,2,-1,-4]\n",
    "Output: [[-1,-1,2],[-1,0,1]]\n",
    "Explanation: \n",
    "nums[0] + nums[1] + nums[2] = (-1) + 0 + 1 = 0.\n",
    "nums[1] + nums[2] + nums[4] = 0 + 1 + (-1) = 0.\n",
    "nums[0] + nums[3] + nums[4] = (-1) + 2 + (-1) = 0.\n",
    "The distinct triplets are [-1,0,1] and [-1,-1,2].\n",
    "Notice that the order of the output and the order of the triplets does not matter.\n",
    "Example 2:\n",
    "\n",
    "Input: nums = [0,1,1]\n",
    "Output: []\n",
    "Explanation: The only possible triplet does not sum up to 0.\n",
    "Example 3:\n",
    "\n",
    "Input: nums = [0,0,0]\n",
    "Output: [[0,0,0]]\n",
    "Explanation: The only possible triplet sums up to 0."
   ]
  },
  {
   "cell_type": "markdown",
   "id": "27c20023",
   "metadata": {},
   "source": [
    "# Intuition\n",
    "1. triple loop: we could use 1 loop for each number and until we find the sum equal to the target we could keep on looping. The only drawback with this method is time complexity is n^3 and if the number is repeated we will get the same combination again and again\n",
    "\n",
    "2. Triple loop+ sorting: to eliminate the issue of repeating same combination what we could do is that, we could sort the array first and before adding the element in our result array we could check if the left element is same or not. if it is same we will eliminate it.\n",
    "\n",
    "3. Sorting + 2 pointer: To reduce time complexity of triple loop we could use 2 pointer solution. We first sort the list.  We loop through the list to find the first number. So now we can find the other 2 numbers using 2 pointer solution. use the left pointer and right pointer and check the sum. If sum is greater than target we reduce right pointer and if sum is small we increase the left pointer. If the sum is same we add the numbers to output list. We use a set to store the combinations because we want distinct combinations. Later this set is converted into a list and return as output"
   ]
  },
  {
   "cell_type": "code",
   "execution_count": 15,
   "id": "cf529481",
   "metadata": {},
   "outputs": [
    {
     "data": {
      "text/plain": [
       "[(-1, 0, 1), (-1, -1, 2)]"
      ]
     },
     "execution_count": 15,
     "metadata": {},
     "output_type": "execute_result"
    }
   ],
   "source": [
    "def threeSum(nums):\n",
    "        \"\"\"\n",
    "        :type nums: List[int]\n",
    "        :rtype: List[List[int]]\n",
    "        \"\"\"\n",
    "        nums.sort()\n",
    "        output = []\n",
    "        s=set()\n",
    "        target = 0\n",
    "        for i in range(len(nums)):\n",
    "            l=i+1\n",
    "            r=len(nums)-1\n",
    "            while(l<r):\n",
    "                if nums[i]+nums[l]+nums[r]==target:\n",
    "                    s.add((nums[i],nums[l],nums[r]))\n",
    "                    l+=1\n",
    "                    r-=1\n",
    "                elif nums[i]+nums[l]+nums[r]<target:\n",
    "                    l+=1\n",
    "                else:\n",
    "                    r-=1\n",
    "        output=list(s)\n",
    "        return output\n",
    "                    \n",
    "nums = [-1,0,1,2,-1,-4]\n",
    "threeSum(nums)"
   ]
  },
  {
   "cell_type": "markdown",
   "id": "e812821b",
   "metadata": {},
   "source": [
    "# 4. You are given an integer array height of length n. There are n vertical lines drawn such that the two endpoints of the ith line are (i, 0) and (i, height[i]).\n",
    "\n",
    "Find two lines that together with the x-axis form a container, such that the container contains the most water.\n",
    "\n",
    "Return the maximum amount of water a container can store.\n",
    "\n",
    "Notice that you may not slant the container.\n",
    "\n",
    " \n",
    "\n",
    "Example 1:\n",
    "\n",
    "\n",
    "Input: height = [1,8,6,2,5,4,8,3,7]\n",
    "Output: 49\n",
    "Explanation: The above vertical lines are represented by array [1,8,6,2,5,4,8,3,7]. In this case, the max area of water (blue section) the container can contain is 49.\n",
    "Example 2:\n",
    "\n",
    "Input: height = [1,1]\n",
    "Output: 1"
   ]
  },
  {
   "cell_type": "markdown",
   "id": "868be43b",
   "metadata": {},
   "source": [
    "# Intuition\n",
    "\n",
    "1. Brute force: we iterate through each item of array as length of container. we iterate through each right item of array of length as breadth. we calculate the area of each possible combination. If the area is greater than the global maximum we update the global maximum and return the maximum\n",
    "\n",
    "2. 2 pointer solution: Here we can see that in brute force we are using double loop . So we can use 2 pointer solution here. we assign leftmost index to array and we assign rightmost index to right. we calculate the area and assign max area if it is global max area. Then we increment left if height of right is more and decrement right if height of left is max. "
   ]
  },
  {
   "cell_type": "code",
   "execution_count": 6,
   "id": "93eb1653",
   "metadata": {},
   "outputs": [
    {
     "data": {
      "text/plain": [
       "49"
      ]
     },
     "execution_count": 6,
     "metadata": {},
     "output_type": "execute_result"
    }
   ],
   "source": [
    "# Brute force\n",
    "\n",
    "# def maxArea(height):\n",
    "#         \"\"\"\n",
    "#         :type height: List[int]\n",
    "#         :rtype: int\n",
    "#         \"\"\"\n",
    "#         max_area=0\n",
    "#         for l in range(len(height)):\n",
    "#             for b in range(l+1,len(height)):\n",
    "#                 area = min(height[l],height[b])*(b-l)\n",
    "#                 max_area=max(area,max_area)\n",
    "#         return max_area\n",
    "                \n",
    "# height = [1,8,6,2,5,4,8,3,7]\n",
    "# maxArea(height)\n",
    "\n",
    "# 2 pointer\n",
    "\n",
    "def maxArea(height):\n",
    "        \"\"\"\n",
    "        :type height: List[int]\n",
    "        :rtype: int\n",
    "        \"\"\"\n",
    "        max_area=0\n",
    "        l,r = 0,len(height)-1\n",
    "        while(l<r):\n",
    "            area = (r-l)* min(height[l],height[r])\n",
    "            max_area = max(max_area,area)\n",
    "            \n",
    "            if(height[l]<height[r]):\n",
    "                l+=1\n",
    "            elif(height[l]>height[r]):\n",
    "                r-=1\n",
    "            else:\n",
    "                r-=1\n",
    "        return max_area\n",
    "                \n",
    "height = [1,8,6,2,5,4,8,3,7]\n",
    "maxArea(height)"
   ]
  },
  {
   "cell_type": "markdown",
   "id": "c2702e13",
   "metadata": {},
   "source": [
    "# 5. Given n non-negative integers representing an elevation map where the width of each bar is 1, compute how much water it can trap after raining.\n",
    "\n",
    " \n",
    "\n",
    "Example 1:\n",
    "\n",
    "\n",
    "Input: height = [0,1,0,2,1,0,1,3,2,1,2,1]\n",
    "Output: 6\n",
    "Explanation: The above elevation map (black section) is represented by array [0,1,0,2,1,0,1,3,2,1,2,1]. In this case, 6 units of rain water (blue section) are being trapped.\n",
    "Example 2:\n",
    "\n",
    "Input: height = [4,2,0,3,2,5]\n",
    "Output: 9\n",
    " \n",
    "\n",
    "Constraints:\n",
    "\n",
    "n == height.length\n",
    "1 <= n <= 2 * 104\n",
    "0 <= height[i] <= 105"
   ]
  },
  {
   "cell_type": "markdown",
   "id": "92bfdcb1",
   "metadata": {},
   "source": [
    "# Intuition\n",
    "\n",
    "1. Using extra memory: We will create 3 array: 1. max left 2. max right 3. min of both. we will iterate through the forward direction to calculate max left array. we find the max to left side of array and store it in the array. Similarly we create right max array by iterating in reverse direction. we find max to the right side of array and store it in max right of array. In the third array we store the min of both array array. Once the third array is calculated we iterate through the input array and 3rd array. We calculate 3rd array item - input array item. If the output is neg we neglect it otherwise we add the output to global water trap. Once we iterate through all the item we return the global water trapped. This solution requires O(n) for both time and space.\n",
    "\n",
    "2. Using 2 pointer: We can reduce space complexity of earlier solution by using 2 pointers. We initialize left and right pointers. We store the initial values of max_left and max_right as the array index values. We compare max_left and max_right. If left is small we increment left pointer and if right is small we decrement right pointer. If left is small we update max_left with max of max_left and the current left heigh value and if right is small we update max_right with max of max_right and current right height value.  We then update result value with the difference of max_left/max_right - current pointer element."
   ]
  },
  {
   "cell_type": "code",
   "execution_count": 2,
   "id": "12a712e8",
   "metadata": {},
   "outputs": [
    {
     "data": {
      "text/plain": [
       "6"
      ]
     },
     "execution_count": 2,
     "metadata": {},
     "output_type": "execute_result"
    }
   ],
   "source": [
    "# Code \n",
    "\n",
    "def trap(height):\n",
    "        \"\"\"\n",
    "        :type height: List[int]\n",
    "        :rtype: int\n",
    "        \"\"\"\n",
    "        \n",
    "        l,r = 0,len(height)-1\n",
    "        max_l,max_r = height[l],height[r]\n",
    "        res = 0\n",
    "        while(l<r):\n",
    "            if max_l < max_r:\n",
    "                l+=1\n",
    "                max_l = max(max_l,height[l])\n",
    "                res+=max_l-height[l]\n",
    "            else:\n",
    "                r-=1\n",
    "                max_r = max(max_r,height[r])\n",
    "                res+=max_r-height[r]\n",
    "        return res\n",
    "        \n",
    "        \n",
    "height = [0,1,0,2,1,0,1,3,2,1,2,1]\n",
    "trap(height)"
   ]
  },
  {
   "cell_type": "markdown",
   "id": "14341774",
   "metadata": {},
   "source": [
    "# Sliding Window problems"
   ]
  },
  {
   "cell_type": "markdown",
   "id": "640d3ca8",
   "metadata": {},
   "source": [
    "## 1. You are given an array prices where prices[i] is the price of a given stock on the ith day.\n",
    "\n",
    "You want to maximize your profit by choosing a single day to buy one stock and choosing a different day in the future to sell that stock.\n",
    "\n",
    "Return the maximum profit you can achieve from this transaction. If you cannot achieve any profit, return 0.\n",
    "\n",
    " \n",
    "\n",
    "Example 1:\n",
    "\n",
    "Input: prices = [7,1,5,3,6,4]\n",
    "Output: 5\n",
    "Explanation: Buy on day 2 (price = 1) and sell on day 5 (price = 6), profit = 6-1 = 5.\n",
    "Note that buying on day 2 and selling on day 1 is not allowed because you must buy before you sell.\n",
    "Example 2:\n",
    "\n",
    "Input: prices = [7,6,4,3,1]\n",
    "Output: 0\n",
    "Explanation: In this case, no transactions are done and the max profit = 0."
   ]
  },
  {
   "cell_type": "markdown",
   "id": "f759f28c",
   "metadata": {},
   "source": [
    "## Intuition\n",
    "\n",
    "2 pointer sliding window approach: we initialize l to 0 and r to 1. we initialize global profit to 0. Then we iterate until our right pointer reaches till the end. We compare the price of left and right pointer. If left pointer price is less than right pointer price we calculate the local profit and then store in global profit if it is greater than global profit and then increment r pointer. If left pointer price is greater than right pointer we assign value of right pointer to left pointer and increment right pointer. finally return global pointer"
   ]
  },
  {
   "cell_type": "code",
   "execution_count": 4,
   "id": "970311a2",
   "metadata": {},
   "outputs": [
    {
     "data": {
      "text/plain": [
       "0"
      ]
     },
     "execution_count": 4,
     "metadata": {},
     "output_type": "execute_result"
    }
   ],
   "source": [
    "# Code\n",
    "def maxProfit(prices):\n",
    "        \"\"\"\n",
    "        :type prices: List[int]\n",
    "        :rtype: int\n",
    "        \"\"\"\n",
    "        l,r = 0,1\n",
    "        global_profit=0\n",
    "        length = len(prices)\n",
    "        while(r<length):\n",
    "            if prices[l]<prices[r]:\n",
    "                local_profit = prices[r]-prices[l]\n",
    "                global_profit = max(global_profit,local_profit)\n",
    "                r+=1\n",
    "            else:\n",
    "                l=r\n",
    "                r+=1\n",
    "        return global_profit\n",
    "        \n",
    "        \n",
    "prices = [7,6,4,3,1]\n",
    "maxProfit(prices)"
   ]
  },
  {
   "cell_type": "code",
   "execution_count": null,
   "id": "8b23c4c5",
   "metadata": {},
   "outputs": [],
   "source": []
  }
 ],
 "metadata": {
  "kernelspec": {
   "display_name": "Python 3 (ipykernel)",
   "language": "python",
   "name": "python3"
  },
  "language_info": {
   "codemirror_mode": {
    "name": "ipython",
    "version": 3
   },
   "file_extension": ".py",
   "mimetype": "text/x-python",
   "name": "python",
   "nbconvert_exporter": "python",
   "pygments_lexer": "ipython3",
   "version": "3.11.4"
  }
 },
 "nbformat": 4,
 "nbformat_minor": 5
}
